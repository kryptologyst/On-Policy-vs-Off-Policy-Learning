{
  "cells": [
    {
      "cell_type": "markdown",
      "metadata": {},
      "source": [
        "# Reinforcement Learning: On-Policy vs Off-Policy Learning\n",
        "\n",
        "This notebook demonstrates the comparison between SARSA (on-policy) and Q-Learning (off-policy) algorithms using modern Python libraries.\n",
        "\n",
        "## Table of Contents\n",
        "1. [Setup and Imports](#setup)\n",
        "2. [Environment Setup](#environment)\n",
        "3. [Agent Training](#training)\n",
        "4. [Results Analysis](#analysis)\n",
        "5. [Visualizations](#visualizations)\n",
        "6. [Advanced Experiments](#advanced)\n"
      ]
    }
  ],
  "metadata": {
    "language_info": {
      "name": "python"
    }
  },
  "nbformat": 4,
  "nbformat_minor": 2
}
